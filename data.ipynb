{
 "cells": [
  {
   "cell_type": "code",
   "execution_count": 2,
   "metadata": {},
   "outputs": [],
   "source": [
    "import pandas as pd\n",
    "data={\n",
    "    'Model': ['ResNet56', 'ResNet56(Backdoored)', 'CIFAR10_ShuffleNetV2_x0_5', 'CIFAR10_ShuffleNetV2_x0_5(Backdoored)', 'VGG16_BN', 'VGG16_BN(Backdoored)'],\n",
    "    'CACC': [99.94, 99.97, 99.98, 99.97, 99.97, 99.95],\n",
    "    'ASR': [81.75, 73.9, 74.79, 80.16, 86.41, 44.66],\n",
    "    'NTE': [85.73, 86.17, 78.9, 79.7, 85.99, 86.69],\n",
    "    'ALDp': [74.67, 82.92, 81.03, 79.7, 82.86, 75.28],\n",
    "    'RGB': [75.09, 75.09, 64.93, 68.06, 72.54, 54.56],\n",
    "    'RIC': [66.57, 67.08, 78.56, 77.67, 66.57, 61.82],\n",
    "    'Tstd': [64.76, 54.2, 80.74, 1.0, 82.42, 53.04],\n",
    "    'Tsize': [79.92, 49.2, 90.5, 48.97, 69.27, 60.04],\n",
    "    'Score': [79.46, 73.79, 82.86, 65.69, 82.31, 67.64]\n",
    "}\n",
    "\n",
    "# 创建 DataFrame\n",
    "df = pd.DataFrame(data)\n",
    "\n",
    "# 写入 CSV 文件\n",
    "df.to_csv('data.csv', index=False)\n"
   ]
  },
  {
   "cell_type": "code",
   "execution_count": 3,
   "metadata": {},
   "outputs": [
    {
     "name": "stdout",
     "output_type": "stream",
     "text": [
      "{\"Model\": \"ResNet56\", \"CACC\": \"99.94\", \"ASR\": \"81.75\", \"NTE\": \"85.73\", \"ALDp\": \"74.67\", \"RGB\": \"75.09\", \"RIC\": \"66.57\", \"Tstd\": \"64.76\", \"Tsize\": \"79.92\", \"Score\": \"79.46\"}\n",
      "{\"Model\": \"ResNet56(Backdoored)\", \"CACC\": \"99.97\", \"ASR\": \"73.9\", \"NTE\": \"86.17\", \"ALDp\": \"82.92\", \"RGB\": \"75.09\", \"RIC\": \"67.08\", \"Tstd\": \"54.2\", \"Tsize\": \"49.2\", \"Score\": \"73.79\"}\n",
      "{\"Model\": \"CIFAR10_ShuffleNetV2_x0_5\", \"CACC\": \"99.98\", \"ASR\": \"74.79\", \"NTE\": \"78.9\", \"ALDp\": \"81.03\", \"RGB\": \"64.93\", \"RIC\": \"78.56\", \"Tstd\": \"80.74\", \"Tsize\": \"90.5\", \"Score\": \"82.86\"}\n",
      "{\"Model\": \"CIFAR10_ShuffleNetV2_x0_5(Backdoored)\", \"CACC\": \"99.97\", \"ASR\": \"80.16\", \"NTE\": \"79.7\", \"ALDp\": \"79.7\", \"RGB\": \"68.06\", \"RIC\": \"77.67\", \"Tstd\": \"1.0\", \"Tsize\": \"48.97\", \"Score\": \"65.69\"}\n",
      "{\"Model\": \"VGG16_BN\", \"CACC\": \"99.97\", \"ASR\": \"86.41\", \"NTE\": \"85.99\", \"ALDp\": \"82.86\", \"RGB\": \"72.54\", \"RIC\": \"66.57\", \"Tstd\": \"82.42\", \"Tsize\": \"69.27\", \"Score\": \"82.31\"}\n",
      "{\"Model\": \"VGG16_BN(Backdoored)\", \"CACC\": \"99.95\", \"ASR\": \"44.66\", \"NTE\": \"86.69\", \"ALDp\": \"75.28\", \"RGB\": \"54.56\", \"RIC\": \"61.82\", \"Tstd\": \"53.04\", \"Tsize\": \"60.04\", \"Score\": \"67.64\"}\n"
     ]
    }
   ],
   "source": [
    "import csv\n",
    "import json\n",
    "\n",
    "# 打开 CSV 文件\n",
    "with open('data.csv', 'r') as csv_file:\n",
    "    # 使用 csv.reader 读取 CSV 文件\n",
    "    reader = csv.DictReader(csv_file)\n",
    "\n",
    "    # 按行遍历 CSV 文件\n",
    "    for row in reader:\n",
    "        # 将每行转换为 JSON 格式\n",
    "        json_data = json.dumps(row)\n",
    "        print(json_data)\n"
   ]
  }
 ],
 "metadata": {
  "kernelspec": {
   "display_name": "d2l",
   "language": "python",
   "name": "d2l"
  },
  "language_info": {
   "codemirror_mode": {
    "name": "ipython",
    "version": 3
   },
   "file_extension": ".py",
   "mimetype": "text/x-python",
   "name": "python",
   "nbconvert_exporter": "python",
   "pygments_lexer": "ipython3",
   "version": "3.9.0"
  }
 },
 "nbformat": 4,
 "nbformat_minor": 2
}
